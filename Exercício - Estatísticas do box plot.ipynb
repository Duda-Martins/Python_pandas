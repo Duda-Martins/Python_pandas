{
 "cells": [
  {
   "cell_type": "markdown",
   "id": "b616abfe",
   "metadata": {},
   "source": [
    "Nosso objetivo neste exercício é obter o conjunto de estatísticas representado na figura acima. Para isso, baixe aqui o arquivo exercicio_aluguel_amostra.csv, e utilize-o para realizar suas análises utilizando como variável alvo o Valor m2 (valor do metro quadrado). Lembrando que Q1 representa o 1º quartil e Q3 o 3º quartil, selecione o item com a resposta correta (considere somente duas casas decimais):"
   ]
  },
  {
   "cell_type": "markdown",
   "id": "a1034761",
   "metadata": {},
   "source": [
    "<img src=\"Box-Plot.png\" whidth=78%>"
   ]
  },
  {
   "cell_type": "markdown",
   "id": "bc3c9944",
   "metadata": {},
   "source": [
    "A\n",
    "\n",
    "[Q1] → 21.25\n",
    "\n",
    "[Q3] → 42.31\n",
    "\n",
    "[IIQ] → 63.56\n",
    "\n",
    "[Q1 - 1.5 * IIQ] → -74.09\n",
    "\n",
    "[Q3 + 1.5 * IIQ] → 137.65\n",
    "\n",
    "Alternativa errada! O valor da terceira linha contém um erro e por consequência os valores da quarta e quinta linhas também. Ao invés de [Q3 - Q1], foi obtido o resultado de [Q3 + Q1]."
   ]
  },
  {
   "cell_type": "markdown",
   "id": "60595201",
   "metadata": {},
   "source": [
    "B\n",
    "\n",
    "[Q1] → 21.25\n",
    "\n",
    "[Q3] → 42.31\n",
    "\n",
    "[IIQ] → 21.06\n",
    "\n",
    "[Q1 - 1.5 * IIQ] → 52.84\n",
    "\n",
    "[Q3 + 1.5 * IIQ] → 73.90\n",
    "\n",
    "Alternativa errada! O valor da quarta linha foi calculado com um erro. Ao invés de [Q1 - 1.5 * IIQ], foi obtido o resultado de [Q1 + 1.5 * IIQ]."
   ]
  },
  {
   "cell_type": "markdown",
   "id": "62a88d55",
   "metadata": {},
   "source": [
    "C - Alternativa correta!\n",
    "\n",
    "[Q1] → 21.25\n",
    "\n",
    "[Q3] → 42.31\n",
    "\n",
    "[IIQ] → 21.06\n",
    "\n",
    "[Q1 - 1.5 * IIQ] → -10.34\n",
    "\n",
    "[Q3 + 1.5 * IIQ] → 73.90"
   ]
  },
  {
   "cell_type": "markdown",
   "id": "dbbfad1b",
   "metadata": {},
   "source": [
    "D\n",
    "\n",
    "[Q1] → 1600.00\n",
    "\n",
    "[Q3] → 5500.00\n",
    "\n",
    "[IIQ] → 3900.00\n",
    "\n",
    "[Q1 - 1.5 * IIQ] → -4250.00\n",
    "\n",
    "[Q3 + 1.5 * IIQ] → 11350.00\n",
    "\n",
    "Alternativa errada! O enunciado pede que seja considerada como variável alvo o Valor m2. Os resultados acima são para a variável Valor."
   ]
  },
  {
   "cell_type": "code",
   "execution_count": 35,
   "id": "b6221148",
   "metadata": {},
   "outputs": [],
   "source": [
    "%matplotlib inline\n",
    "import pandas as pd\n",
    "import matplotlib.pyplot as plt\n",
    "plt.rc('figure', figsize = (14,6))"
   ]
  },
  {
   "cell_type": "code",
   "execution_count": 36,
   "id": "bb58a2d5",
   "metadata": {},
   "outputs": [],
   "source": [
    "dados = pd.read_csv('dados/exercicio_aluguel_amostra.csv', sep = ';')"
   ]
  },
  {
   "cell_type": "code",
   "execution_count": 37,
   "id": "c56f944d",
   "metadata": {},
   "outputs": [],
   "source": [
    "valor_m2 = dados['Valor m2']"
   ]
  },
  {
   "cell_type": "code",
   "execution_count": 38,
   "id": "b19046f4",
   "metadata": {},
   "outputs": [],
   "source": [
    "Q1 = valor_m2.quantile(.25)\n",
    "Q3 = valor_m2.quantile(.75)\n",
    "IIQ = Q3 - Q1\n",
    "limite_inferior = Q1 - 1.5 * IIQ\n",
    "limite_superior = Q3 + 1.5 * IIQ"
   ]
  },
  {
   "cell_type": "code",
   "execution_count": 39,
   "id": "db9961ae",
   "metadata": {},
   "outputs": [
    {
     "data": {
      "text/plain": [
       "21.25"
      ]
     },
     "execution_count": 39,
     "metadata": {},
     "output_type": "execute_result"
    }
   ],
   "source": [
    "Q1.round(2)"
   ]
  },
  {
   "cell_type": "code",
   "execution_count": 40,
   "id": "d8a681f5",
   "metadata": {},
   "outputs": [
    {
     "data": {
      "text/plain": [
       "42.31"
      ]
     },
     "execution_count": 40,
     "metadata": {},
     "output_type": "execute_result"
    }
   ],
   "source": [
    "Q3.round(2)"
   ]
  },
  {
   "cell_type": "code",
   "execution_count": 41,
   "id": "aee33b39",
   "metadata": {},
   "outputs": [
    {
     "data": {
      "text/plain": [
       "21.06"
      ]
     },
     "execution_count": 41,
     "metadata": {},
     "output_type": "execute_result"
    }
   ],
   "source": [
    "IIQ.round(2)"
   ]
  },
  {
   "cell_type": "code",
   "execution_count": 42,
   "id": "10ba6e58",
   "metadata": {},
   "outputs": [
    {
     "data": {
      "text/plain": [
       "-10.34"
      ]
     },
     "execution_count": 42,
     "metadata": {},
     "output_type": "execute_result"
    }
   ],
   "source": [
    "limite_inferior.round(2)"
   ]
  },
  {
   "cell_type": "code",
   "execution_count": 43,
   "id": "6e5c6001",
   "metadata": {},
   "outputs": [
    {
     "data": {
      "text/plain": [
       "73.9"
      ]
     },
     "execution_count": 43,
     "metadata": {},
     "output_type": "execute_result"
    }
   ],
   "source": [
    "limite_superior.round(2)"
   ]
  },
  {
   "cell_type": "code",
   "execution_count": null,
   "id": "cf12704c",
   "metadata": {},
   "outputs": [],
   "source": []
  }
 ],
 "metadata": {
  "kernelspec": {
   "display_name": "Python 3 (ipykernel)",
   "language": "python",
   "name": "python3"
  },
  "language_info": {
   "codemirror_mode": {
    "name": "ipython",
    "version": 3
   },
   "file_extension": ".py",
   "mimetype": "text/x-python",
   "name": "python",
   "nbconvert_exporter": "python",
   "pygments_lexer": "ipython3",
   "version": "3.9.13"
  }
 },
 "nbformat": 4,
 "nbformat_minor": 5
}
